{
 "cells": [
  {
   "cell_type": "code",
   "execution_count": 1,
   "id": "c3d8b39f-e5b5-4986-94a0-05eb277ffdeb",
   "metadata": {},
   "outputs": [],
   "source": [
    "import nibabel as nib\n",
    "from scipy.io import savemat\n",
    "from nilearn import *\n",
    "import numpy as np\n",
    "import os"
   ]
  },
  {
   "cell_type": "code",
   "execution_count": 3,
   "id": "817dad19-640b-4b72-9933-a72024c9f0bc",
   "metadata": {},
   "outputs": [],
   "source": [
    "# Path to folder with all masks\n",
    "dir_path = r'.\\masks\\masks'\n",
    "\n",
    "# Path to save all masks\n",
    "save_path = './resampled_masks/1092_'\n",
    "\n",
    "# list to store files\n",
    "res = []\n",
    "# Iterate directory\n",
    "for file in os.listdir(dir_path):\n",
    "    # check only text files\n",
    "    if file.endswith('.nii'):\n",
    "        res.append(file)\n",
    "\n",
    "# One data image as reference\n",
    "data_img = nib.load('../DATA/HU1092_27_11_13/MOVIE1_LONG/Nifti/wrsHU1092-0701-00007-000001-01.hdr')"
   ]
  },
  {
   "cell_type": "code",
   "execution_count": 4,
   "id": "492ec2b0-02e2-409c-b4c2-f7c30bd52c4e",
   "metadata": {},
   "outputs": [
    {
     "name": "stdout",
     "output_type": "stream",
     "text": [
      "Saving resampled version of ACC_L.nii\n",
      "Saving resampled version of ACC_R.nii\n",
      "Saving resampled version of amygdala_l.nii\n",
      "Saving resampled version of amygdala_r.nii\n",
      "Saving resampled version of angular_l.nii\n",
      "Saving resampled version of angular_r.nii\n",
      "Saving resampled version of frontal_inf_oper_l.nii\n",
      "Saving resampled version of frontal_inf_oper_r.nii\n",
      "Saving resampled version of frontal_inf_orb_L.nii\n",
      "Saving resampled version of frontal_inf_orb_r.nii\n",
      "Saving resampled version of Frontal_Inf_Tri_l.nii\n",
      "Saving resampled version of frontal_Inf_tri_r.nii\n",
      "Saving resampled version of frontal_med_orb_l.nii\n",
      "Saving resampled version of frontal_med_orb_r.nii\n",
      "Saving resampled version of frontal_mid_l.nii\n",
      "Saving resampled version of frontal_mid_orb_l.nii\n",
      "Saving resampled version of frontal_mid_orb_r.nii\n",
      "Saving resampled version of frontal_mid_r.nii\n",
      "Saving resampled version of frontal_sup_L.nii\n",
      "Saving resampled version of frontal_sup_medial_l.nii\n",
      "Saving resampled version of frontal_sup_medial_r.nii\n",
      "Saving resampled version of frontal_sup_orb_l.nii\n",
      "Saving resampled version of frontal_sup_orb_r.nii\n",
      "Saving resampled version of frontal_sup_r.nii\n",
      "Saving resampled version of fusiform_l.nii\n",
      "Saving resampled version of fusiform_r.nii\n",
      "Saving resampled version of hippo_l.nii\n",
      "Saving resampled version of hippo_r.nii\n",
      "Saving resampled version of insula_l.nii\n",
      "Saving resampled version of insula_r.nii\n",
      "Saving resampled version of occiital_inf_r.nii\n",
      "Saving resampled version of occipital_inf_l.nii\n",
      "Saving resampled version of occipital_mid_l.nii\n",
      "Saving resampled version of occipital_mid_r.nii\n",
      "Saving resampled version of occipital_Sup_l.nii\n",
      "Saving resampled version of occipital_sup_r.nii\n",
      "Saving resampled version of parahippo_l.nii\n",
      "Saving resampled version of parahippo_r.nii\n",
      "Saving resampled version of pareital_inf_l.nii\n",
      "Saving resampled version of parietal_inf_r.nii\n",
      "Saving resampled version of parietal_sup_l.nii\n",
      "Saving resampled version of parietal_sup_r.nii\n",
      "Saving resampled version of PCC_L.nii\n",
      "Saving resampled version of PCC_R.nii\n",
      "Saving resampled version of precuneus_l.nii\n",
      "Saving resampled version of precuneus_r.nii\n",
      "Saving resampled version of supramarginal_L.nii\n",
      "Saving resampled version of supramarginal_r.nii\n",
      "Saving resampled version of temporal_inf_l.nii\n",
      "Saving resampled version of temporal_sup_l.nii\n",
      "Saving resampled version of temporal_sup_r.nii\n",
      "Saving resampled version of temporl_inf_r.nii\n",
      "Saving resampled version of thalamus_l.nii\n",
      "Saving resampled version of thalamus_r.nii\n"
     ]
    }
   ],
   "source": [
    "# Iterate over all masks and resample them\n",
    "for f in res:\n",
    "    # Load data from img file\n",
    "    mask_filename = './masks/masks/' + f\n",
    "    mask_img = nib.load(mask_filename)\n",
    "\n",
    "    # Adjust the affine of the mask to match the data\n",
    "    mask_img_resampled = image.resample_to_img(mask_img, target_img=data_img, interpolation='nearest')\n",
    "\n",
    "    print('Saving resampled version of '+f)\n",
    "    \n",
    "    # Save the mask\n",
    "    nib.save(mask_img_resampled, save_path+f)"
   ]
  },
  {
   "cell_type": "code",
   "execution_count": null,
   "id": "51ccd6f3-d11c-4841-8037-c207b9fe3df8",
   "metadata": {},
   "outputs": [],
   "source": [
    "# Create a dictionary to store all the regions' matrices\n",
    "data = {}\n",
    "\n",
    "for f in res:\n",
    "    # Load data from img file\n",
    "    mask_filename = './masks/' + f\n",
    "    mask_img = nib.load(mask_filename)\n",
    "\n",
    "    # Adjust the affine of the mask to match the data\n",
    "    mask_img = image.resample_to_img(mask_img, target_img=data_img, interpolation='nearest')\n",
    "    \n",
    "    mask_data = mask_img.get_fdata()\n",
    "    \n",
    "    # Get the affine matrix\n",
    "    affine = mask_img.affine\n",
    "\n",
    "    # Get indices where the mask is non-zero\n",
    "    indices = np.argwhere(mask_data != 0)\n",
    "    \n",
    "    # Add homogeneous coordinate for the transformation\n",
    "    indices_homogeneous = np.column_stack((indices, np.ones(indices.shape[0])))\n",
    "    \n",
    "    # Apply the affine transformation to convert to MNI space\n",
    "    mni_coords = np.dot(affine, indices_homogeneous.T).T\n",
    "    mni_coords = mni_coords[:, :3]  # Extract only x, y, z coordinates\n",
    "    \n",
    "    # Append the MNI coordinates for this mask to the dictionary\n",
    "    data[f[:-4]] = mni_coords.astype(float)\n"
   ]
  },
  {
   "cell_type": "code",
   "execution_count": 4,
   "id": "8f01258f-a439-4b95-a509-1af7ee7e911d",
   "metadata": {},
   "outputs": [],
   "source": [
    "# Save as MATLAB Data file\n",
    "savemat(\"MNI_allMasks.mat\", data)"
   ]
  }
 ],
 "metadata": {
  "kernelspec": {
   "display_name": "Python 3 (ipykernel)",
   "language": "python",
   "name": "python3"
  },
  "language_info": {
   "codemirror_mode": {
    "name": "ipython",
    "version": 3
   },
   "file_extension": ".py",
   "mimetype": "text/x-python",
   "name": "python",
   "nbconvert_exporter": "python",
   "pygments_lexer": "ipython3",
   "version": "3.12.0"
  }
 },
 "nbformat": 4,
 "nbformat_minor": 5
}
